{
  "nbformat": 4,
  "nbformat_minor": 0,
  "metadata": {
    "accelerator": "GPU",
    "colab": {
      "provenance": [],
      "include_colab_link": true
    },
    "kernelspec": {
      "display_name": "Python 3",
      "name": "python3"
    }
  },
  "cells": [
    {
      "cell_type": "markdown",
      "metadata": {
        "id": "view-in-github",
        "colab_type": "text"
      },
      "source": [
        "<a href=\"https://colab.research.google.com/github/jacquelsn/IA-/blob/https%2Fcolab.research.google.com%2Fdrive%2F1cMPkWtq0mPav13-Sn3uc-BxjSmrcSYLY/PLN_4_LSTM.ipynb\" target=\"_parent\"><img src=\"https://colab.research.google.com/assets/colab-badge.svg\" alt=\"Open In Colab\"/></a>"
      ]
    },
    {
      "cell_type": "markdown",
      "metadata": {
        "id": "Lf0gpLZJeC8a"
      },
      "source": [
        "### Carga e preparação dos dados"
      ]
    },
    {
      "cell_type": "code",
      "metadata": {
        "colab": {
          "base_uri": "https://localhost:8080/",
          "height": 203
        },
        "id": "g5RbYW_ZL-td",
        "outputId": "58640c4f-18ab-484e-f4ed-2270a13d38fb"
      },
      "source": [
        "%matplotlib inline\n",
        "import pandas as pd\n",
        "df = pd.read_csv('https://drive.google.com/u/0/uc?id=1ZlZsxrMHhZZb9ZTYABOiWw7bCPofY6cz&export=download', header=0)\n",
        "df.head()"
      ],
      "execution_count": null,
      "outputs": [
        {
          "output_type": "execute_result",
          "data": {
            "text/html": [
              "<div>\n",
              "<style scoped>\n",
              "    .dataframe tbody tr th:only-of-type {\n",
              "        vertical-align: middle;\n",
              "    }\n",
              "\n",
              "    .dataframe tbody tr th {\n",
              "        vertical-align: top;\n",
              "    }\n",
              "\n",
              "    .dataframe thead th {\n",
              "        text-align: right;\n",
              "    }\n",
              "</style>\n",
              "<table border=\"1\" class=\"dataframe\">\n",
              "  <thead>\n",
              "    <tr style=\"text-align: right;\">\n",
              "      <th></th>\n",
              "      <th>review</th>\n",
              "      <th>sentiment</th>\n",
              "    </tr>\n",
              "  </thead>\n",
              "  <tbody>\n",
              "    <tr>\n",
              "      <th>0</th>\n",
              "      <td>One of the other reviewers has mentioned that ...</td>\n",
              "      <td>positive</td>\n",
              "    </tr>\n",
              "    <tr>\n",
              "      <th>1</th>\n",
              "      <td>A wonderful little production. &lt;br /&gt;&lt;br /&gt;The...</td>\n",
              "      <td>positive</td>\n",
              "    </tr>\n",
              "    <tr>\n",
              "      <th>2</th>\n",
              "      <td>I thought this was a wonderful way to spend ti...</td>\n",
              "      <td>positive</td>\n",
              "    </tr>\n",
              "    <tr>\n",
              "      <th>3</th>\n",
              "      <td>Basically there's a family where a little boy ...</td>\n",
              "      <td>negative</td>\n",
              "    </tr>\n",
              "    <tr>\n",
              "      <th>4</th>\n",
              "      <td>Petter Mattei's \"Love in the Time of Money\" is...</td>\n",
              "      <td>positive</td>\n",
              "    </tr>\n",
              "  </tbody>\n",
              "</table>\n",
              "</div>"
            ],
            "text/plain": [
              "                                              review sentiment\n",
              "0  One of the other reviewers has mentioned that ...  positive\n",
              "1  A wonderful little production. <br /><br />The...  positive\n",
              "2  I thought this was a wonderful way to spend ti...  positive\n",
              "3  Basically there's a family where a little boy ...  negative\n",
              "4  Petter Mattei's \"Love in the Time of Money\" is...  positive"
            ]
          },
          "metadata": {
            "tags": []
          },
          "execution_count": 1
        }
      ]
    },
    {
      "cell_type": "code",
      "metadata": {
        "colab": {
          "base_uri": "https://localhost:8080/"
        },
        "id": "_uY8GhnGMRkc",
        "outputId": "d8e6c88b-345d-4256-bc10-bc15c74ee34a"
      },
      "source": [
        "df.isnull().sum()"
      ],
      "execution_count": null,
      "outputs": [
        {
          "output_type": "execute_result",
          "data": {
            "text/plain": [
              "review       0\n",
              "sentiment    0\n",
              "dtype: int64"
            ]
          },
          "metadata": {
            "tags": []
          },
          "execution_count": 2
        }
      ]
    },
    {
      "cell_type": "code",
      "metadata": {
        "colab": {
          "base_uri": "https://localhost:8080/"
        },
        "id": "-GK7FYHYMRny",
        "outputId": "d00a6674-42b9-4cf2-d414-001ff950ced5"
      },
      "source": [
        "df['sentiment'].value_counts()"
      ],
      "execution_count": null,
      "outputs": [
        {
          "output_type": "execute_result",
          "data": {
            "text/plain": [
              "positive    25000\n",
              "negative    25000\n",
              "Name: sentiment, dtype: int64"
            ]
          },
          "metadata": {
            "tags": []
          },
          "execution_count": 3
        }
      ]
    },
    {
      "cell_type": "code",
      "metadata": {
        "colab": {
          "base_uri": "https://localhost:8080/",
          "height": 332
        },
        "id": "5Xh4oOBNMRqr",
        "outputId": "7735a07a-74cc-470f-94f1-e59624e2e186"
      },
      "source": [
        "df[\"sentiment\"].value_counts().plot.bar(title='Quantidade por Tipo',rot=90)"
      ],
      "execution_count": null,
      "outputs": [
        {
          "output_type": "execute_result",
          "data": {
            "text/plain": [
              "<matplotlib.axes._subplots.AxesSubplot at 0x7f25a2d82710>"
            ]
          },
          "metadata": {
            "tags": []
          },
          "execution_count": 4
        },
        {
          "output_type": "display_data",
          "data": {
            "image/png": "[encoded data removed]",
            "text/plain": [
              "<Figure size 432x288 with 1 Axes>"
            ]
          },
          "metadata": {
            "tags": [],
            "needs_background": "light"
          }
        }
      ]
    },
    {
      "cell_type": "code",
      "metadata": {
        "colab": {
          "base_uri": "https://localhost:8080/"
        },
        "id": "tTNDiWmHMRtf",
        "outputId": "055be1d0-5f3c-44a1-fcfc-2aba2c6158e8"
      },
      "source": [
        "!pip install nltk\n",
        "import nltk\n",
        "nltk.download('stopwords')\n",
        "nltk.download('punkt')\n",
        "nltk.download('wordnet')"
      ],
      "execution_count": null,
      "outputs": [
        {
          "output_type": "stream",
          "text": [
            "Requirement already satisfied: nltk in /usr/local/lib/python3.7/dist-packages (3.2.5)\n",
            "Requirement already satisfied: six in /usr/local/lib/python3.7/dist-packages (from nltk) (1.15.0)\n",
            "[nltk_data] Downloading package stopwords to /root/nltk_data...\n",
            "[nltk_data]   Unzipping corpora/stopwords.zip.\n",
            "[nltk_data] Downloading package punkt to /root/nltk_data...\n",
            "[nltk_data]   Unzipping tokenizers/punkt.zip.\n",
            "[nltk_data] Downloading package wordnet to /root/nltk_data...\n",
            "[nltk_data]   Unzipping corpora/wordnet.zip.\n"
          ],
          "name": "stdout"
        },
        {
          "output_type": "execute_result",
          "data": {
            "text/plain": [
              "True"
            ]
          },
          "metadata": {
            "tags": []
          },
          "execution_count": 5
        }
      ]
    },
    {
      "cell_type": "code",
      "metadata": {
        "colab": {
          "base_uri": "https://localhost:8080/"
        },
        "id": "zAYvAD1fbyM1",
        "outputId": "4ce23900-2cae-4760-a1cd-7608dd19f756"
      },
      "source": [
        "exemplo = df['review'].values[0]\n",
        "print(exemplo)\n",
        "print(len(exemplo.split()))"
      ],
      "execution_count": null,
      "outputs": [
        {
          "output_type": "stream",
          "text": [
            "One of the other reviewers has mentioned that after watching just 1 Oz episode you'll be hooked. They are right, as this is exactly what happened with me.<br /><br />The first thing that struck me about Oz was its brutality and unflinching scenes of violence, which set in right from the word GO. Trust me, this is not a show for the faint hearted or timid. This show pulls no punches with regards to drugs, sex or violence. Its is hardcore, in the classic use of the word.<br /><br />It is called OZ as that is the nickname given to the Oswald Maximum Security State Penitentary. It focuses mainly on Emerald City, an experimental section of the prison where all the cells have glass fronts and face inwards, so privacy is not high on the agenda. Em City is home to many..Aryans, Muslims, gangstas, Latinos, Christians, Italians, Irish and more....so scuffles, death stares, dodgy dealings and shady agreements are never far away.<br /><br />I would say the main appeal of the show is due to the fact that it goes where other shows wouldn't dare. Forget pretty pictures painted for mainstream audiences, forget charm, forget romance...OZ doesn't mess around. The first episode I ever saw struck me as so nasty it was surreal, I couldn't say I was ready for it, but as I watched more, I developed a taste for Oz, and got accustomed to the high levels of graphic violence. Not just violence, but injustice (crooked guards who'll be sold out for a nickel, inmates who'll kill on order and get away with it, well mannered, middle class inmates being turned into prison bitches due to their lack of street skills or prison experience) Watching Oz, you may become comfortable with what is uncomfortable viewing....thats if you can get in touch with your darker side.\n",
            "307\n"
          ],
          "name": "stdout"
        }
      ]
    },
    {
      "cell_type": "code",
      "metadata": {
        "colab": {
          "base_uri": "https://localhost:8080/"
        },
        "id": "Bk0WlXJ6Qhma",
        "outputId": "0c463a0c-5447-4bf5-f4ea-5755cab25bb4"
      },
      "source": [
        "%%time\n",
        "from nltk.tokenize import word_tokenize\n",
        "import string\n",
        "stopwords = nltk.corpus.stopwords.words('english')\n",
        "punctuations = list(string.punctuation)\n",
        "TAMANHO_MIMINO = 1\n",
        "IGNORAR = ['...', 'br','.so','\\'ll']\n",
        "def prepara(texto):\n",
        "    palavras = [i for i in word_tokenize(texto, language='english') if i not in punctuations]\n",
        "    palavras = [i for i in palavras if i not in stopwords]\n",
        "    palavras = [i for i in palavras if len(i) > TAMANHO_MIMINO]\n",
        "    palavras = [i.lower() for i in palavras if i not in IGNORAR]\n",
        "    return palavras\n",
        "df['review2'] = df['review'].apply(prepara)\n",
        "df['review2'] = df['review2'].apply(' '.join)"
      ],
      "execution_count": null,
      "outputs": [
        {
          "output_type": "stream",
          "text": [
            "CPU times: user 1min 40s, sys: 480 ms, total: 1min 41s\n",
            "Wall time: 1min 41s\n"
          ],
          "name": "stdout"
        }
      ]
    },
    {
      "cell_type": "code",
      "metadata": {
        "colab": {
          "base_uri": "https://localhost:8080/",
          "height": 203
        },
        "id": "mosh86zGQhri",
        "outputId": "36e89926-1b43-4e27-cf6c-f88aa0dafdfd"
      },
      "source": [
        "df.head()"
      ],
      "execution_count": null,
      "outputs": [
        {
          "output_type": "execute_result",
          "data": {
            "text/html": [
              "<div>\n",
              "<style scoped>\n",
              "    .dataframe tbody tr th:only-of-type {\n",
              "        vertical-align: middle;\n",
              "    }\n",
              "\n",
              "    .dataframe tbody tr th {\n",
              "        vertical-align: top;\n",
              "    }\n",
              "\n",
              "    .dataframe thead th {\n",
              "        text-align: right;\n",
              "    }\n",
              "</style>\n",
              "<table border=\"1\" class=\"dataframe\">\n",
              "  <thead>\n",
              "    <tr style=\"text-align: right;\">\n",
              "      <th></th>\n",
              "      <th>review</th>\n",
              "      <th>sentiment</th>\n",
              "      <th>review2</th>\n",
              "    </tr>\n",
              "  </thead>\n",
              "  <tbody>\n",
              "    <tr>\n",
              "      <th>0</th>\n",
              "      <td>One of the other reviewers has mentioned that ...</td>\n",
              "      <td>positive</td>\n",
              "      <td>one reviewers mentioned watching oz episode ho...</td>\n",
              "    </tr>\n",
              "    <tr>\n",
              "      <th>1</th>\n",
              "      <td>A wonderful little production. &lt;br /&gt;&lt;br /&gt;The...</td>\n",
              "      <td>positive</td>\n",
              "      <td>wonderful little production the filming techni...</td>\n",
              "    </tr>\n",
              "    <tr>\n",
              "      <th>2</th>\n",
              "      <td>I thought this was a wonderful way to spend ti...</td>\n",
              "      <td>positive</td>\n",
              "      <td>thought wonderful way spend time hot summer we...</td>\n",
              "    </tr>\n",
              "    <tr>\n",
              "      <th>3</th>\n",
              "      <td>Basically there's a family where a little boy ...</td>\n",
              "      <td>negative</td>\n",
              "      <td>basically 's family little boy jake thinks 's ...</td>\n",
              "    </tr>\n",
              "    <tr>\n",
              "      <th>4</th>\n",
              "      <td>Petter Mattei's \"Love in the Time of Money\" is...</td>\n",
              "      <td>positive</td>\n",
              "      <td>petter mattei 's `` love time money '' visuall...</td>\n",
              "    </tr>\n",
              "  </tbody>\n",
              "</table>\n",
              "</div>"
            ],
            "text/plain": [
              "                                              review  ...                                            review2\n",
              "0  One of the other reviewers has mentioned that ...  ...  one reviewers mentioned watching oz episode ho...\n",
              "1  A wonderful little production. <br /><br />The...  ...  wonderful little production the filming techni...\n",
              "2  I thought this was a wonderful way to spend ti...  ...  thought wonderful way spend time hot summer we...\n",
              "3  Basically there's a family where a little boy ...  ...  basically 's family little boy jake thinks 's ...\n",
              "4  Petter Mattei's \"Love in the Time of Money\" is...  ...  petter mattei 's `` love time money '' visuall...\n",
              "\n",
              "[5 rows x 3 columns]"
            ]
          },
          "metadata": {
            "tags": []
          },
          "execution_count": 8
        }
      ]
    },
    {
      "cell_type": "markdown",
      "metadata": {
        "id": "G_1X_rHdeM1A"
      },
      "source": [
        "### Modelagem estatística"
      ]
    },
    {
      "cell_type": "code",
      "metadata": {
        "colab": {
          "base_uri": "https://localhost:8080/"
        },
        "id": "MCIlAB6RQhuK",
        "outputId": "e4f0868c-b5ac-42b7-a852-a4ddc7e713c9"
      },
      "source": [
        "from sklearn.model_selection import train_test_split\n",
        "X_train, X_test, y_train, y_test = train_test_split(df['review2'], df['sentiment'], test_size=0.2, random_state=0)\n",
        "print('X_train shape:',X_train.shape)\n",
        "print('y_train shape:',y_train.shape)\n",
        "print('X_test shape:',X_test.shape)\n",
        "print('y_test shape:',y_test.shape)"
      ],
      "execution_count": null,
      "outputs": [
        {
          "output_type": "stream",
          "text": [
            "X_train shape: (40000,)\n",
            "y_train shape: (40000,)\n",
            "X_test shape: (10000,)\n",
            "y_test shape: (10000,)\n"
          ],
          "name": "stdout"
        }
      ]
    },
    {
      "cell_type": "code",
      "metadata": {
        "colab": {
          "base_uri": "https://localhost:8080/"
        },
        "id": "bpmUae0TjoZd",
        "outputId": "89f5d6db-2152-4ab1-b6df-c346250300ea"
      },
      "source": [
        "%%time\n",
        "from keras.preprocessing.text import Tokenizer\n",
        "tokenizer = Tokenizer(num_words=10000)\n",
        "tokenizer.fit_on_texts(X_train)\n",
        "tk_X_train = tokenizer.texts_to_sequences(X_train)\n",
        "tk_X_test = tokenizer.texts_to_sequences(X_test)\n",
        "vocab_size = len(tokenizer.word_index) + 1"
      ],
      "execution_count": null,
      "outputs": [
        {
          "output_type": "stream",
          "text": [
            "CPU times: user 9.07 s, sys: 111 ms, total: 9.18 s\n",
            "Wall time: 9.22 s\n"
          ],
          "name": "stdout"
        }
      ]
    },
    {
      "cell_type": "code",
      "metadata": {
        "colab": {
          "base_uri": "https://localhost:8080/"
        },
        "id": "ZrCh8x4omGYG",
        "outputId": "f7ebfc9d-dd52-4d23-dea7-aff0f3376a5e"
      },
      "source": [
        "%%time\n",
        "from keras.preprocessing.sequence import pad_sequences\n",
        "max_len = 100\n",
        "tk_pad_X_train = pad_sequences(tk_X_train, padding='post', maxlen=max_len)\n",
        "tk_pad_X_test = pad_sequences(tk_X_test, padding='post', maxlen=max_len)"
      ],
      "execution_count": null,
      "outputs": [
        {
          "output_type": "stream",
          "text": [
            "CPU times: user 460 ms, sys: 26.1 ms, total: 486 ms\n",
            "Wall time: 468 ms\n"
          ],
          "name": "stdout"
        }
      ]
    },
    {
      "cell_type": "code",
      "metadata": {
        "colab": {
          "base_uri": "https://localhost:8080/"
        },
        "id": "pE2nvXbCxfjD",
        "outputId": "a86bf03f-ce8e-474c-fcb6-8f3ec0148024"
      },
      "source": [
        "from sklearn.preprocessing import LabelBinarizer\n",
        "lb = LabelBinarizer()\n",
        "ohe_y_train = lb.fit_transform(y_train)\n",
        "ohe_y_test = lb.fit_transform(y_test)\n",
        "print('ohe_y_train shape:',ohe_y_train.shape)\n",
        "print('ohe_y_test shape:',ohe_y_test.shape)"
      ],
      "execution_count": null,
      "outputs": [
        {
          "output_type": "stream",
          "text": [
            "ohe_y_train shape: (40000, 1)\n",
            "ohe_y_test shape: (10000, 1)\n"
          ],
          "name": "stdout"
        }
      ]
    },
    {
      "cell_type": "code",
      "metadata": {
        "id": "Fep9em2FzFsU"
      },
      "source": [
        "import matplotlib.pyplot as plt\n",
        "def plot_history(history):\n",
        "    acc = history.history['accuracy']\n",
        "    val_acc = history.history['val_accuracy']\n",
        "    loss = history.history['loss']\n",
        "    val_loss = history.history['val_loss']\n",
        "    x = range(1, len(acc) + 1)\n",
        "\n",
        "    plt.figure(figsize=(12, 5))\n",
        "    plt.subplot(1, 2, 1)\n",
        "    plt.plot(x, acc, 'b', label='Training accuracy')\n",
        "    plt.plot(x, val_acc, 'r', label='Validation accuracy')\n",
        "    plt.title('Training and validation accuracy')\n",
        "    plt.legend()\n",
        "    plt.subplot(1, 2, 2)\n",
        "    plt.plot(x, loss, 'b', label='Training loss')\n",
        "    plt.plot(x, val_loss, 'r', label='Validation loss')\n",
        "    plt.title('Training and validation loss')\n",
        "    plt.legend()\n",
        ""
      ],
      "execution_count": null,
      "outputs": []
    },
    {
      "cell_type": "markdown",
      "metadata": {
        "id": "OTee4GyDd0E7"
      },
      "source": [
        "### Embedding"
      ]
    },
    {
      "cell_type": "code",
      "metadata": {
        "colab": {
          "base_uri": "https://localhost:8080/"
        },
        "id": "JU8UF-cFdItl",
        "outputId": "6c8cb23a-170a-4721-9b4f-e9fb6fda9a00"
      },
      "source": [
        "%cd drive/MyDrive/Colab\\ Notebooks"
      ],
      "execution_count": null,
      "outputs": [
        {
          "output_type": "stream",
          "text": [
            "/content/drive/MyDrive/Colab Notebooks\n"
          ],
          "name": "stdout"
        }
      ]
    },
    {
      "cell_type": "code",
      "metadata": {
        "id": "6ajP7WmgqyA3",
        "colab": {
          "base_uri": "https://localhost:8080/"
        },
        "outputId": "8ba4e39d-9991-496e-f2f6-d93645050ecb"
      },
      "source": [
        "%ls -la"
      ],
      "execution_count": null,
      "outputs": [
        {
          "output_type": "stream",
          "text": [
            "total 320249\n",
            "-rw------- 1 root root   2243257 Sep 10  2020 '7. examples.ipynb'\n",
            "-rw------- 1 root root    105690 Sep  4  2020  aima_agents.ipynb\n",
            "-rw------- 1 root root     82749 Oct 26 22:49  aima_logic.ipynb\n",
            "drwx------ 2 root root      4096 Aug 31  2020  \u001b[0m\u001b[01;34maima-python\u001b[0m/\n",
            "-rw------- 1 root root   1833759 Oct 14  2020  aima_search.ipynb\n",
            "-rw------- 1 root root     16979 Apr 11 23:30 'Bonus - Reconhecimento de Entidades Nomeadas.ipynb'\n",
            "-rw------- 1 root root  11782370 Nov 10 04:04  CopiaVC_1_Lab_09_MNIST_CNN_DataAug.ipynb\n",
            "-rw------- 1 root root     20598 Jun 20  2020 'Copy of regression.ipynb'\n",
            "-rw------- 1 root root     28475 Apr 23 23:01 'Curso PLN - Tópico 1.ipynb'\n",
            "-rw------- 1 root root  23872904 Apr 24 00:11 'Curso PLN - Tópico 2 - DNN.ipynb'\n",
            "-rw------- 1 root root     57752 Apr 23 23:52 'Curso PLN - Tópico 2.ipynb'\n",
            "-rw------- 1 root root     58115 Apr 24 00:02 'Curso PLN - Tópico 2 - TF-IDF.ipynb'\n",
            "-rw------- 1 root root    194757 Apr 26 21:00 'Curso PLN - Tópico 3 - CNN.ipynb'\n",
            "-rw------- 1 root root     25441 Apr 26 21:17 'Curso PLN - Tópico 4 - LSTM.ipynb'\n",
            "-rw------- 1 root root    241299 Apr 11 23:38 'Curso PLN - Tópico 5 - Seq2Seq.ipynb'\n",
            "-rw------- 1 root root    280138 Apr 22  2020 'Desafio aula02.ipynb'\n",
            "-rw------- 1 root root    726135 Apr 24  2020 'Desafio aula04'\n",
            "-rw------- 1 root root     16248 May  8  2020 'DEsafio Final - Humberto Pereira.ipynb'\n",
            "-rw------- 1 root root     40054 Apr 22  2020 'Desafios aula 01.ipynb'\n",
            "-rw------- 1 root root    311951 Apr 23  2020 'Desafios aula03.ipynb'\n",
            "-rw------- 1 root root       151 Oct 23  2020 'Documento sem título.gdoc'\n",
            "-rw------- 1 root root 171350079 Aug  4  2014  glove.6B.50d.txt\n",
            "drwx------ 2 root root      4096 Aug 31  2020  \u001b[01;34m.ipynb_checkpoints\u001b[0m/\n",
            "-rw------- 1 root root     23875 Oct  5  2020  Lab01_Jupyter.ipynb\n",
            "-rw------- 1 root root     69183 Oct 23  2019  Lab04_NLTK.ipynb\n",
            "-rw------- 1 root root 105133851 Jan 14 15:45  nano\n",
            "-rw------- 1 root root    131417 Apr 22  2020 'QuarentenaDados - aula01'\n",
            "-rw------- 1 root root    411131 Apr 22  2020 'QuarentenaDados - aula02'\n",
            "-rw------- 1 root root    476757 Apr 22  2020 'QuarentenaDados - aula03'\n",
            "-rw------- 1 root root    512477 Apr 23  2020 'QuarentenaDados - Aula04'\n",
            "-rw------- 1 root root   1091576 Apr 24  2020 'QuarentenaDados - Aula05'\n",
            "-rw------- 1 root root      9451 Apr 24  2020 'QuarentenaDados Desafio Final.ipynb'\n",
            "-rw------- 1 root root     11753 Jan 29 20:12  Similaridade_Texto.ipynb\n",
            "-rw------- 1 root root   2592214 Apr  3 02:31 'Tensorflow Object Detection API - Exemplo 1.ipynb'\n",
            "-rw------- 1 root root   4148167 Apr  3 03:02 'Tensorflow Object Detection API - Exemplo 2.ipynb'\n",
            "-rw------- 1 root root     16974 Nov 10 04:05  VC_1_Lab_11_MNIST_CNN_Transf_Learn.ipynb\n"
          ],
          "name": "stdout"
        }
      ]
    },
    {
      "cell_type": "code",
      "metadata": {
        "id": "sGZX8nEKnNKv",
        "colab": {
          "base_uri": "https://localhost:8080/"
        },
        "outputId": "63bbeb9a-c00a-48df-f566-d3f26878983b"
      },
      "source": [
        "%%time\n",
        "import numpy as np\n",
        "def create_embedding(path, word_index, embedding_dim):\n",
        "    vocab_size = len(word_index) + 1\n",
        "    embedding = np.zeros((vocab_size, embedding_dim))\n",
        "    with open(path) as f:\n",
        "        for line in f:\n",
        "            w, *vector = line.split()\n",
        "            if w in word_index:\n",
        "                idx = word_index[w]\n",
        "                embedding[idx] = np.array(vector, dtype=np.float32)[:embedding_dim]\n",
        "    return embedding\n",
        "embedding_dim = 50\n",
        "embedding_matrix = create_embedding('glove.6B.50d.txt', tokenizer.word_index, embedding_dim)\n",
        "print(embedding_matrix.shape)"
      ],
      "execution_count": null,
      "outputs": [
        {
          "output_type": "stream",
          "text": [
            "(98411, 50)\n",
            "CPU times: user 2.44 s, sys: 131 ms, total: 2.57 s\n",
            "Wall time: 4.9 s\n"
          ],
          "name": "stdout"
        }
      ]
    },
    {
      "cell_type": "markdown",
      "metadata": {
        "id": "FF3WRVfWdw3I"
      },
      "source": [
        "### LSTM"
      ]
    },
    {
      "cell_type": "code",
      "metadata": {
        "id": "olqJr1mGxAs1"
      },
      "source": [
        "from keras.models import Sequential\n",
        "from keras.layers import Embedding, Flatten, Dense, Dropout, LSTM\n",
        "from keras.optimizers import Adam, Nadam"
      ],
      "execution_count": null,
      "outputs": []
    },
    {
      "cell_type": "code",
      "metadata": {
        "id": "-_8IpyGWyn8j"
      },
      "source": [
        "NB_EPOCH = 3\n",
        "BATCH_SIZE = 256\n",
        "VERBOSE = 1\n",
        "OPTIMIZER = Adam()"
      ],
      "execution_count": null,
      "outputs": []
    },
    {
      "cell_type": "code",
      "metadata": {
        "colab": {
          "base_uri": "https://localhost:8080/"
        },
        "id": "ez7dWzqjmGaf",
        "outputId": "68adae18-d4bd-418c-ec14-9b5ba70f12df"
      },
      "source": [
        "model = Sequential()\n",
        "#model.add(Embedding(input_dim=vocab_size, output_dim=50, input_length=max_len, weights=[embedding_matrix], trainable=False))\n",
        "model.add(Embedding(vocab_size, 128, input_length=max_len))\n",
        "model.add(LSTM(128))\n",
        "model.add(Dense(1, activation='sigmoid'))\n",
        "model.compile(optimizer=OPTIMIZER, loss='binary_crossentropy', metrics=['accuracy'])\n",
        "model.summary()"
      ],
      "execution_count": null,
      "outputs": [
        {
          "output_type": "stream",
          "text": [
            "Model: \"sequential\"\n",
            "_________________________________________________________________\n",
            "Layer (type)                 Output Shape              Param #   \n",
            "=================================================================\n",
            "embedding (Embedding)        (None, 100, 128)          12596608  \n",
            "_________________________________________________________________\n",
            "lstm (LSTM)                  (None, 128)               131584    \n",
            "_________________________________________________________________\n",
            "dense (Dense)                (None, 1)                 129       \n",
            "=================================================================\n",
            "Total params: 12,728,321\n",
            "Trainable params: 12,728,321\n",
            "Non-trainable params: 0\n",
            "_________________________________________________________________\n"
          ],
          "name": "stdout"
        }
      ]
    },
    {
      "cell_type": "code",
      "metadata": {
        "colab": {
          "base_uri": "https://localhost:8080/"
        },
        "id": "r-Py4mLeqx7i",
        "outputId": "b1ccfb19-6795-485c-b0d5-434dedb8b1a5"
      },
      "source": [
        "%%time\n",
        "history = model.fit(tk_pad_X_train, ohe_y_train,\n",
        "                    epochs=NB_EPOCH,\n",
        "                    verbose=1,\n",
        "                    validation_data=(tk_pad_X_test, ohe_y_test),\n",
        "                    batch_size=BATCH_SIZE)"
      ],
      "execution_count": null,
      "outputs": [
        {
          "output_type": "stream",
          "text": [
            "Epoch 1/3\n",
            "157/157 [==============================] - 56s 146ms/step - loss: 0.5479 - accuracy: 0.6817 - val_loss: 0.3077 - val_accuracy: 0.8752\n",
            "Epoch 2/3\n",
            "157/157 [==============================] - 22s 140ms/step - loss: 0.2297 - accuracy: 0.9126 - val_loss: 0.3288 - val_accuracy: 0.8767\n",
            "Epoch 3/3\n",
            "157/157 [==============================] - 22s 140ms/step - loss: 0.1780 - accuracy: 0.9339 - val_loss: 0.3032 - val_accuracy: 0.8744\n",
            "CPU times: user 1min 52s, sys: 3.67 s, total: 1min 55s\n",
            "Wall time: 1min 39s\n"
          ],
          "name": "stdout"
        }
      ]
    },
    {
      "cell_type": "code",
      "metadata": {
        "id": "bVyERibtzFjF",
        "colab": {
          "base_uri": "https://localhost:8080/"
        },
        "outputId": "d69ff16a-a041-4b1e-9aa3-68ca8ac2f100"
      },
      "source": [
        "loss, accuracy = model.evaluate(tk_pad_X_test, ohe_y_test, verbose=False)\n",
        "print(\"Acurácia do Teste:  {:.4f}\".format(accuracy))"
      ],
      "execution_count": null,
      "outputs": [
        {
          "output_type": "stream",
          "text": [
            "Acurácia do Teste:  0.8744\n"
          ],
          "name": "stdout"
        }
      ]
    },
    {
      "cell_type": "code",
      "metadata": {
        "id": "498ihpnRL116",
        "colab": {
          "base_uri": "https://localhost:8080/",
          "height": 336
        },
        "outputId": "b37b54e4-1b21-447e-8f19-fe1a7e2e1eb8"
      },
      "source": [
        "plot_history(history)"
      ],
      "execution_count": null,
      "outputs": [
        {
          "output_type": "display_data",
          "data": {
            "image/png": "[encoded data removed]",
            "text/plain": [
              "<Figure size 864x360 with 2 Axes>"
            ]
          },
          "metadata": {
            "tags": [],
            "needs_background": "light"
          }
        }
      ]
    },
    {
      "cell_type": "code",
      "metadata": {
        "id": "dCFaex4F2JJM"
      },
      "source": [
        "from keras.models import Sequential\n",
        "from keras.layers import Embedding, Flatten, Dense, Dropout, LSTM, Conv1D, MaxPooling1D\n",
        "from keras.optimizers import Adam, Nadam"
      ],
      "execution_count": null,
      "outputs": []
    },
    {
      "cell_type": "code",
      "metadata": {
        "id": "b_thw9Vm3DHR"
      },
      "source": [
        "NB_EPOCH = 3\n",
        "BATCH_SIZE = 256\n",
        "VERBOSE = 1\n",
        "OPTIMIZER = Adam()"
      ],
      "execution_count": null,
      "outputs": []
    },
    {
      "cell_type": "code",
      "metadata": {
        "colab": {
          "base_uri": "https://localhost:8080/"
        },
        "id": "PQSK6ka73DKB",
        "outputId": "f638507e-e19c-4b8b-a5bb-256baff4d158"
      },
      "source": [
        "model = Sequential()\n",
        "#model.add(Embedding(input_dim=vocab_size, output_dim=50, input_length=max_len, weights=[embedding_matrix], trainable=False))\n",
        "model.add(Embedding(vocab_size, 128, input_length=max_len))\n",
        "model.add(Conv1D(filters=32, kernel_size=3, padding='same', activation='relu'))\n",
        "model.add(MaxPooling1D(pool_size=2))\n",
        "model.add(Dropout(0.6))\n",
        "model.add(LSTM(128))\n",
        "model.add(Dropout(0.6))\n",
        "model.add(Dense(1, activation='sigmoid'))\n",
        "model.compile(optimizer=OPTIMIZER, loss='binary_crossentropy', metrics=['accuracy'])\n",
        "model.summary()"
      ],
      "execution_count": null,
      "outputs": [
        {
          "output_type": "stream",
          "text": [
            "Model: \"sequential_1\"\n",
            "_________________________________________________________________\n",
            "Layer (type)                 Output Shape              Param #   \n",
            "=================================================================\n",
            "embedding_1 (Embedding)      (None, 100, 128)          12596608  \n",
            "_________________________________________________________________\n",
            "conv1d (Conv1D)              (None, 100, 32)           12320     \n",
            "_________________________________________________________________\n",
            "max_pooling1d (MaxPooling1D) (None, 50, 32)            0         \n",
            "_________________________________________________________________\n",
            "dropout (Dropout)            (None, 50, 32)            0         \n",
            "_________________________________________________________________\n",
            "lstm_1 (LSTM)                (None, 128)               82432     \n",
            "_________________________________________________________________\n",
            "dropout_1 (Dropout)          (None, 128)               0         \n",
            "_________________________________________________________________\n",
            "dense_1 (Dense)              (None, 1)                 129       \n",
            "=================================================================\n",
            "Total params: 12,691,489\n",
            "Trainable params: 12,691,489\n",
            "Non-trainable params: 0\n",
            "_________________________________________________________________\n"
          ],
          "name": "stdout"
        }
      ]
    },
    {
      "cell_type": "code",
      "metadata": {
        "colab": {
          "base_uri": "https://localhost:8080/"
        },
        "id": "Jy6HtoqL3DMk",
        "outputId": "a87a7c8e-c10f-41e3-a531-95bdd227ae5f"
      },
      "source": [
        "%%time\n",
        "history = model.fit(tk_pad_X_train, ohe_y_train,\n",
        "                    epochs=NB_EPOCH,\n",
        "                    verbose=1,\n",
        "                    validation_data=(tk_pad_X_test, ohe_y_test),\n",
        "                    batch_size=BATCH_SIZE)"
      ],
      "execution_count": null,
      "outputs": [
        {
          "output_type": "stream",
          "text": [
            "Epoch 1/3\n",
            "157/157 [==============================] - 24s 139ms/step - loss: 0.5945 - accuracy: 0.6255 - val_loss: 0.2954 - val_accuracy: 0.8728\n",
            "Epoch 2/3\n",
            "157/157 [==============================] - 21s 135ms/step - loss: 0.2380 - accuracy: 0.9083 - val_loss: 0.2810 - val_accuracy: 0.8809\n",
            "Epoch 3/3\n",
            "157/157 [==============================] - 21s 135ms/step - loss: 0.1869 - accuracy: 0.9322 - val_loss: 0.2983 - val_accuracy: 0.8809\n",
            "CPU times: user 1min 50s, sys: 2.45 s, total: 1min 53s\n",
            "Wall time: 1min 6s\n"
          ],
          "name": "stdout"
        }
      ]
    },
    {
      "cell_type": "code",
      "metadata": {
        "colab": {
          "base_uri": "https://localhost:8080/"
        },
        "id": "XZiXeyIE3DPl",
        "outputId": "c2e93066-53dc-4e39-88e1-1883918bdeaf"
      },
      "source": [
        "loss, accuracy = model.evaluate(tk_pad_X_test, ohe_y_test, verbose=False)\n",
        "print(\"Acurácia do Teste:  {:.4f}\".format(accuracy))"
      ],
      "execution_count": null,
      "outputs": [
        {
          "output_type": "stream",
          "text": [
            "Acurácia do Teste:  0.8809\n"
          ],
          "name": "stdout"
        }
      ]
    },
    {
      "cell_type": "code",
      "metadata": {
        "colab": {
          "base_uri": "https://localhost:8080/",
          "height": 336
        },
        "id": "NUTl5M9K4XR2",
        "outputId": "c160dbe7-250c-47f4-f9b2-2353dc88375f"
      },
      "source": [
        "plot_history(history)"
      ],
      "execution_count": null,
      "outputs": [
        {
          "output_type": "display_data",
          "data": {
            "image/png": "[encoded data removed]",
            "text/plain": [
              "<Figure size 864x360 with 2 Axes>"
            ]
          },
          "metadata": {
            "tags": [],
            "needs_background": "light"
          }
        }
      ]
    },
    {
      "cell_type": "markdown",
      "metadata": {
        "id": "OMUyq-ijLtp-"
      },
      "source": [
        "FIM"
      ]
    }
  ]
}